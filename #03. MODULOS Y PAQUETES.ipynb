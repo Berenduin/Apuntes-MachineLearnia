{
 "cells": [
  {
   "cell_type": "markdown",
   "metadata": {},
   "source": [
    "Video: https://www.youtube.com/watch?v=mSh4h-J0z1c&list=PLO_fdPEVlfKqMDNmCFzQISI2H_nJcEDJq&index=8\n",
    "\n",
    "Índice de módulos de Python: https://docs.python.org/es/3/py-modindex.html"
   ]
  },
  {
   "cell_type": "markdown",
   "metadata": {},
   "source": [
    "Los módulos y paquetes en Python se cargan usando la palabra reservada \"import\". \n",
    "\n",
    "Como en algunos casos su nombre es algo largo podemos renombrarlos usando la palabra \"as\" seguido del la palabra que vamos a usar a lo largo del código para llamar a ese módulo o paquete.\n",
    "\n",
    "En ocasiones la información importada es enorme y para reducir ese cómputo llamamos solo a una función o un dataset, esto lo hacemos usando \"from\" e \"import\"."
   ]
  },
  {
   "cell_type": "code",
   "execution_count": null,
   "metadata": {},
   "outputs": [],
   "source": [
    "# importamos la librería numpy y le ponemos de nombre np\n",
    "import numpy as np\n",
    "\n",
    "# importamos una librería de datasets y llamamos a uno solo"
   ]
  },
  {
   "cell_type": "code",
   "execution_count": 1,
   "metadata": {},
   "outputs": [],
   "source": [
    "import math"
   ]
  },
  {
   "cell_type": "code",
   "execution_count": null,
   "metadata": {},
   "outputs": [],
   "source": [
    "math.asin"
   ]
  }
 ],
 "metadata": {
  "kernelspec": {
   "display_name": "Python 3",
   "language": "python",
   "name": "python3"
  },
  "language_info": {
   "codemirror_mode": {
    "name": "ipython",
    "version": 3
   },
   "file_extension": ".py",
   "mimetype": "text/x-python",
   "name": "python",
   "nbconvert_exporter": "python",
   "pygments_lexer": "ipython3",
   "version": "3.8.3"
  }
 },
 "nbformat": 4,
 "nbformat_minor": 4
}
