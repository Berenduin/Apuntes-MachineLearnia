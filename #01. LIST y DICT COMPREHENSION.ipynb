{
 "cells": [
  {
   "cell_type": "markdown",
   "metadata": {},
   "source": [
    "# LIST y DICT COMPREHENSION. Compresión de listas y diccionarios\n",
    "\n",
    "Python es un lenguaje de alto nivel y está pensado para reducir en lo posible el tamaño del código. Esto se puede conseguir gracias a la llamada compresión, que reduce el código a la hora de crear listas y diccionarios.\n",
    "\n",
    "[Video - Machine Learnia(FR)](https://www.youtube.com/watch?v=Whoe3p-sGEY&list=PLO_fdPEVlfKqMDNmCFzQISI2H_nJcEDJq&index=6)"
   ]
  },
  {
   "cell_type": "markdown",
   "metadata": {},
   "source": [
    "## Compresión de listas\n",
    "Imaginemos que queremos constriur una lista de números con los cuadrados de los números del 1 al 10. \n",
    "El código para crear eso sería el siguiente."
   ]
  },
  {
   "cell_type": "code",
   "execution_count": 1,
   "metadata": {},
   "outputs": [
    {
     "data": {
      "text/plain": [
       "[1, 4, 9, 16, 25, 36, 49, 64, 81, 100]"
      ]
     },
     "execution_count": 1,
     "metadata": {},
     "output_type": "execute_result"
    }
   ],
   "source": [
    "# inicializamos una lista vacía\n",
    "lista_1=[]\n",
    "\n",
    "for i in range(1, 11):    # un bucle que toma valores entre 1 y 11\n",
    "    lista_1.append(i**2)  # eleva al cuadrado i y lo añade a lista_1\n",
    "    \n",
    "lista_1"
   ]
  },
  {
   "cell_type": "markdown",
   "metadata": {},
   "source": [
    "Para que entendamos bien cómo funciona el concepto de la compresión, se trata de inicializar una lista y dentro de ella añadir las reglas que van a definir la construcción de la misma. Dicho así a priori puede sonar un poco raro, pero a continuación podemos verlo."
   ]
  },
  {
   "cell_type": "code",
   "execution_count": 5,
   "metadata": {},
   "outputs": [
    {
     "data": {
      "text/plain": [
       "[1, 4, 9, 16, 25, 36, 49, 64, 81, 100]"
      ]
     },
     "execution_count": 5,
     "metadata": {},
     "output_type": "execute_result"
    }
   ],
   "source": [
    "# aquí podemos ver el código de arriba en una sola línea\n",
    "lista_2 = [i**2 for i in range (1, 11)]\n",
    "\n",
    "lista_2"
   ]
  },
  {
   "cell_type": "markdown",
   "metadata": {},
   "source": [
    "### ¿Por qué es útil usar la compresión?\n",
    "Pues hay tres razones para hacer esto:\n",
    "1. El código es más legible al estar escrito en una sola línea\n",
    "2. Es una buena práctica propia de Python\n",
    "3. El código se ejecuta más rápido\n",
    "\n",
    "Esta forma de trabajar tiene mucho sentido cuando usamos grandes cantidades de datos o por ejemplo, bucles con una cantidad enorme de iteraciones. "
   ]
  },
  {
   "cell_type": "code",
   "execution_count": 3,
   "metadata": {},
   "outputs": [],
   "source": [
    "# cargamos la librería time\n",
    "import time"
   ]
  },
  {
   "cell_type": "code",
   "execution_count": 4,
   "metadata": {},
   "outputs": [
    {
     "name": "stdout",
     "output_type": "stream",
     "text": [
      "0.0030031204223632812\n"
     ]
    }
   ],
   "source": [
    "# inicializamos un reloj\n",
    "start = time.time()\n",
    "\n",
    "lista_1=[]\n",
    "for i in range(10000):    # 10.000 iteraciones\n",
    "    lista_1.append(i**2)\n",
    "\n",
    "# guardamos el instante final\n",
    "end = time.time()\n",
    "\n",
    "# tiempo de ejecución\n",
    "print(end-start)"
   ]
  },
  {
   "cell_type": "code",
   "execution_count": 5,
   "metadata": {},
   "outputs": [
    {
     "name": "stdout",
     "output_type": "stream",
     "text": [
      "0.0019998550415039062\n"
     ]
    }
   ],
   "source": [
    "start = time.time()\n",
    "\n",
    "lista_2 = [i**2 for i in range (10000)] # el mismo bucle de arriba en una sola línea\n",
    "\n",
    "end = time.time()\n",
    "\n",
    "print(end-start)  # tiempo de ejecución menor"
   ]
  },
  {
   "cell_type": "markdown",
   "metadata": {},
   "source": [
    "Otra funcionalidad de Python es poder crear una lista anidada, algo muy útil cuando representamos matrices. La matriz funcionará como una lista de listas, siendo cada lista un vector dentro de ella."
   ]
  },
  {
   "cell_type": "code",
   "execution_count": 2,
   "metadata": {},
   "outputs": [
    {
     "data": {
      "text/plain": [
       "[0, 1, 2]"
      ]
     },
     "execution_count": 2,
     "metadata": {},
     "output_type": "execute_result"
    }
   ],
   "source": [
    "# un vector tiene la siguiente forma\n",
    "vector = [i for i in range(3)]\n",
    "vector"
   ]
  },
  {
   "cell_type": "code",
   "execution_count": 18,
   "metadata": {},
   "outputs": [
    {
     "data": {
      "text/plain": [
       "[[0, 1, 2], [0, 1, 2], [0, 1, 2]]"
      ]
     },
     "execution_count": 18,
     "metadata": {},
     "output_type": "execute_result"
    }
   ],
   "source": [
    "# anidando el mismo esquema podemos crear una matriz (3x3)\n",
    "matriz = [[i for i in range(3)] for i in range(3)]\n",
    "matriz"
   ]
  },
  {
   "cell_type": "markdown",
   "metadata": {},
   "source": [
    "## Compresión en diccionarios"
   ]
  },
  {
   "cell_type": "code",
   "execution_count": 20,
   "metadata": {},
   "outputs": [],
   "source": [
    "# un diccionario es un conjunto de parjeras clave:valor\n",
    "apellidos = {'0':'Garcia', '1':'Valero', '2':'Jimenez', '3':'Rodriguez'}"
   ]
  },
  {
   "cell_type": "code",
   "execution_count": 21,
   "metadata": {},
   "outputs": [],
   "source": [
    "# puedo usar una lista para introducirla dentro de un diccionario\n",
    "nombres = ['Sofia', 'Javier', 'Matías', 'Alba']"
   ]
  },
  {
   "cell_type": "code",
   "execution_count": 22,
   "metadata": {},
   "outputs": [
    {
     "data": {
      "text/plain": [
       "{0: 'Sofia', 1: 'Javier', 2: 'Matías', 3: 'Alba'}"
      ]
     },
     "execution_count": 22,
     "metadata": {},
     "output_type": "execute_result"
    }
   ],
   "source": [
    "d_nombres = {k:v for k,v in enumerate(nombres)}\n",
    "d_nombres"
   ]
  },
  {
   "cell_type": "markdown",
   "metadata": {},
   "source": [
    "También podemos juntar dos listas de tal modo que usamos una como clave y el otro como valor.\n",
    "Todo ello se hace con el método `zip()`"
   ]
  },
  {
   "cell_type": "code",
   "execution_count": null,
   "metadata": {},
   "outputs": [],
   "source": [
    "# creamos una lista de edades\n",
    "edades =  [24, 65, 12, 84]"
   ]
  },
  {
   "cell_type": "code",
   "execution_count": null,
   "metadata": {},
   "outputs": [],
   "source": [
    "d_edades = {nombres:edades for nombres, edades in zip(nombres, edades)}"
   ]
  },
  {
   "cell_type": "code",
   "execution_count": null,
   "metadata": {},
   "outputs": [],
   "source": [
    "d_edades"
   ]
  },
  {
   "cell_type": "markdown",
   "metadata": {},
   "source": [
    "los diccionarios y listas podemos aplicarles condicionales que modifiquen la salida"
   ]
  },
  {
   "cell_type": "code",
   "execution_count": null,
   "metadata": {},
   "outputs": [],
   "source": [
    "# le aplicamos la condicion de que cree el diccionario con edades superiores a 20 años\n",
    "d_edades = {nombres:edades for nombres, edades in zip(nombres, edades) if edades>20}\n",
    "d_edades"
   ]
  },
  {
   "cell_type": "markdown",
   "metadata": {},
   "source": [
    "En esencia la extructura se resume a la forma:\n",
    "\n",
    "`[HAZ ESTO + PARA ESTA COLECCION + EN ESTOS CASOS]`\n",
    "\n",
    "- Haz esto : elevar al cuadrado `i**2`, hacer minúsculas `palabra.lower()`...\n",
    "- Para esta colección: `for i in range(10)`, `for palabra in texto`\n",
    "- En estos casos: si la palabra empieza por A `if palabra[0] == 'A'`"
   ]
  },
  {
   "cell_type": "code",
   "execution_count": null,
   "metadata": {},
   "outputs": [],
   "source": [
    "ejemplo = [i**2 for i in range(50) if i % 3 == 0]\n",
    "ejemplo"
   ]
  },
  {
   "cell_type": "markdown",
   "metadata": {},
   "source": [
    "### Comprehensión en tuplas "
   ]
  },
  {
   "cell_type": "markdown",
   "metadata": {},
   "source": [
    "Para el caso de las tuplas tenemos que tener en cuenta que Python lo tiene un poco complicado, porque las tuplas son listas de invariantes"
   ]
  },
  {
   "cell_type": "code",
   "execution_count": 23,
   "metadata": {},
   "outputs": [
    {
     "data": {
      "text/plain": [
       "<generator object <genexpr> at 0x000002ED8EF19BA0>"
      ]
     },
     "execution_count": 23,
     "metadata": {},
     "output_type": "execute_result"
    }
   ],
   "source": [
    "tupla_1 = (i**2 for i in range(10))\n",
    "tupla_1"
   ]
  },
  {
   "cell_type": "markdown",
   "metadata": {},
   "source": [
    "Si queremos evitar este mensaje de error tenemos que usar la palabra reservada `tuple` para que en el proceso de generación tenga en cuenta Python el tipo de dato"
   ]
  },
  {
   "cell_type": "code",
   "execution_count": 25,
   "metadata": {},
   "outputs": [
    {
     "data": {
      "text/plain": [
       "(0, 1, 4, 9, 16, 25, 36, 49, 64, 81)"
      ]
     },
     "execution_count": 25,
     "metadata": {},
     "output_type": "execute_result"
    }
   ],
   "source": [
    "tupla_1 = tuple(i**2 for i in range(10))\n",
    "tupla_1"
   ]
  }
 ],
 "metadata": {
  "kernelspec": {
   "display_name": "Python 3",
   "language": "python",
   "name": "python3"
  },
  "language_info": {
   "codemirror_mode": {
    "name": "ipython",
    "version": 3
   },
   "file_extension": ".py",
   "mimetype": "text/x-python",
   "name": "python",
   "nbconvert_exporter": "python",
   "pygments_lexer": "ipython3",
   "version": "3.8.5"
  },
  "toc": {
   "base_numbering": 1,
   "nav_menu": {},
   "number_sections": false,
   "sideBar": true,
   "skip_h1_title": false,
   "title_cell": "Table of Contents",
   "title_sidebar": "Contents",
   "toc_cell": false,
   "toc_position": {
    "height": "calc(100% - 180px)",
    "left": "10px",
    "top": "150px",
    "width": "341.333px"
   },
   "toc_section_display": true,
   "toc_window_display": true
  }
 },
 "nbformat": 4,
 "nbformat_minor": 4
}
