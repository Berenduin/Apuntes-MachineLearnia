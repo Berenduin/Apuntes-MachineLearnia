{
 "cells": [
  {
   "cell_type": "markdown",
   "metadata": {},
   "source": [
    "# Métricas de regresión\n",
    "\n",
    "[Video](https://www.youtube.com/watch?v=_TE9fDgtOaE&list=PLO_fdPEVlfKqMDNmCFzQISI2H_nJcEDJq&index=23)\n",
    "\n",
    "En este notebook vamos a ver la diferencia entre:\n",
    "- Error cuadrático medio(MSE)\n",
    "- Error absoluto medio (MAE)\n",
    "- Coeficiente de autodeterminación ($R^{2}$)\n",
    "\n",
    "Las métricas se obtienen al analizar la recta de regresión de un conjunto de datos.\n",
    "Si proyectamos parelelamente al eje vertical los puntos de nuestros datos sobre la recta de regresión obtendremos la predicción, y el espacio entre el punto y la predicción será el error. \n",
    "\n",
    "$error = y_{real} - y_{pred}$ \n",
    "\n",
    "Este error puede ser positivo, si el valor real se encuentra sobre la recta, o negativo, si el punto está bajo la recta. Ahora bien, no resulta práctico trabajar con errores positivos y negativos por lo que podemos tomar dos caminos para eliminar aquellos que sean negativos: \n",
    "\n",
    "1. Tomar el valor absoluto del error.  $error = |y_{real} - y_{pred}|$\n",
    "2. Calcular el cuadrado del error.  $error = (y_{real} - y_{pred})^{2}$\n",
    "\n",
    "A partir de aquí lo que deberíamos hacer es realizar la media de todos los errores. Dependiendo del camino que hayamos tomado tendremos:\n",
    "\n",
    "1. Error absoluto medio. Mean Absolute Error(MAE).\n",
    "- $\\frac{1}{m}·\\sum |y_{real} - y_{pred}|$\n",
    "\n",
    "2. Error cuadrático medio. Mean Squeared Error(MSE)\n",
    "- $\\frac{1}{m}·\\sum (y_{real} - y_{pred})^{2}$\n",
    "\n",
    "Para realizar estos cálculos tenemos que cargar el módulo de sklearn `metrics`.\n",
    "\n",
    "[Leer más sobre el módulo Metrics](https://scikit-learn.org/stable/modules/classes.html#sklearn-metrics-metrics)"
   ]
  },
  {
   "cell_type": "code",
   "execution_count": 2,
   "metadata": {},
   "outputs": [],
   "source": [
    "# importamos todos los módulos\n",
    "import numpy as np\n",
    "import matplotlib.pyplot as plt\n",
    "from sklearn.metrics import *"
   ]
  },
  {
   "cell_type": "markdown",
   "metadata": {},
   "source": [
    "Imaginemos por un momento y un punto y su predicción, resultado de la proyección sobre la recta de regresión."
   ]
  },
  {
   "cell_type": "code",
   "execution_count": 6,
   "metadata": {},
   "outputs": [
    {
     "name": "stdout",
     "output_type": "stream",
     "text": [
      "[1] [2]\n"
     ]
    }
   ],
   "source": [
    "# creamos dos puntos\n",
    "y = np.array([1])\n",
    "y_pred = np.array([2])\n",
    "\n",
    "print(y, y_pred)"
   ]
  },
  {
   "cell_type": "markdown",
   "metadata": {},
   "source": [
    "Podemos calcular entonces los errores mencionados antes en base a los puntos que hemos creado."
   ]
  },
  {
   "cell_type": "code",
   "execution_count": 7,
   "metadata": {},
   "outputs": [
    {
     "name": "stdout",
     "output_type": "stream",
     "text": [
      "MAE:  1.0\n",
      "MSE:  1.0\n"
     ]
    }
   ],
   "source": [
    "print('MAE: ', mean_absolute_error(y, y_pred))\n",
    "print('MSE: ', mean_squared_error(y, y_pred))"
   ]
  },
  {
   "cell_type": "markdown",
   "metadata": {},
   "source": [
    "Si cambiamos el valor de la predicción podemos ver como varían los errores"
   ]
  },
  {
   "cell_type": "code",
   "execution_count": 10,
   "metadata": {},
   "outputs": [
    {
     "name": "stdout",
     "output_type": "stream",
     "text": [
      "Para i= 0\n",
      "MAE:  1.0\n",
      "MSE:  1.0 \n",
      "\n",
      "Para i= 1\n",
      "MAE:  0.0\n",
      "MSE:  0.0 \n",
      "\n",
      "Para i= 2\n",
      "MAE:  1.0\n",
      "MSE:  1.0 \n",
      "\n",
      "Para i= 3\n",
      "MAE:  2.0\n",
      "MSE:  4.0 \n",
      "\n",
      "Para i= 4\n",
      "MAE:  3.0\n",
      "MSE:  9.0 \n",
      "\n"
     ]
    }
   ],
   "source": [
    "for i in range(5):\n",
    "    y = np.array([1])\n",
    "    y_pred = np.array([i])\n",
    "    print('Para i=',i)\n",
    "    print('MAE: ', mean_absolute_error(y, y_pred))\n",
    "    print('MSE: ', mean_squared_error(y, y_pred), '\\n')"
   ]
  },
  {
   "cell_type": "markdown",
   "metadata": {},
   "source": [
    "A la vista de los resultados podemos pensar que el error cuadrático es el cuadrado del error absoluto, lo cual es falso. \n",
    "\n",
    "- $\\sum(errores)^2 \\neq (\\sum errores)^2$\n",
    "- $MSE \\neq (MAE)^2$\n",
    "\n",
    "Esto se debe a que hemos realizado el ejemplo de forma malintencionada. Si añadimos datos a nuestros datos de partida veremos que todo cambia."
   ]
  },
  {
   "cell_type": "code",
   "execution_count": 11,
   "metadata": {},
   "outputs": [
    {
     "name": "stdout",
     "output_type": "stream",
     "text": [
      "MAE:  2.0\n",
      "MSE:  8.0\n"
     ]
    }
   ],
   "source": [
    "y = np.array([1, 2])\n",
    "y_pred = np.array([5,2])\n",
    "\n",
    "print('MAE: ', mean_absolute_error(y, y_pred))\n",
    "print('MSE: ', mean_squared_error(y, y_pred))"
   ]
  },
  {
   "cell_type": "markdown",
   "metadata": {},
   "source": [
    "El error cuadrático medio (MSE) está sobreescalado por efecto del exponente al cuadrado. Por lo tanto, será necesario aplicar la raiz cuadrada para reducirlo a la misma escala en la que está expresado el error absoluto medio."
   ]
  },
  {
   "cell_type": "code",
   "execution_count": 12,
   "metadata": {},
   "outputs": [
    {
     "name": "stdout",
     "output_type": "stream",
     "text": [
      "MAE:  2.0\n",
      "MSE:  8.0\n",
      "R2:  2.8284271247461903\n"
     ]
    }
   ],
   "source": [
    "print('MAE: ', mean_absolute_error(y, y_pred))\n",
    "print('MSE: ', mean_squared_error(y, y_pred))\n",
    "print('R2: ', np.sqrt(mean_squared_error(y, y_pred)))"
   ]
  },
  {
   "cell_type": "markdown",
   "metadata": {},
   "source": [
    "## ¿Qué error elegir entonces?\n",
    "\n",
    "Dependerá de varias cosas. "
   ]
  }
 ],
 "metadata": {
  "kernelspec": {
   "display_name": "Python 3",
   "language": "python",
   "name": "python3"
  },
  "language_info": {
   "codemirror_mode": {
    "name": "ipython",
    "version": 3
   },
   "file_extension": ".py",
   "mimetype": "text/x-python",
   "name": "python",
   "nbconvert_exporter": "python",
   "pygments_lexer": "ipython3",
   "version": "3.8.5"
  },
  "toc": {
   "base_numbering": 1,
   "nav_menu": {},
   "number_sections": false,
   "sideBar": true,
   "skip_h1_title": false,
   "title_cell": "Table of Contents",
   "title_sidebar": "Contents",
   "toc_cell": false,
   "toc_position": {},
   "toc_section_display": true,
   "toc_window_display": true
  }
 },
 "nbformat": 4,
 "nbformat_minor": 4
}
