{
 "cells": [
  {
   "cell_type": "markdown",
   "metadata": {
    "heading_collapsed": true
   },
   "source": [
    "# ¿Qué es el Machine Learning (ML)?\n",
    "\n",
    "\n",
    "\n",
    "La definición a ojos de un profano de la programación sería algo así como: \n",
    "_\"La creación de una máquina con la capacidad de aprender cosas nuevas\"_\n",
    "\n",
    "La definición de ML que se ajusta más al trabajo de un programador es: _\"Desarrollar un **modelo** matemático a partir de una colección de **datos**_\n",
    "\n",
    "En el ámbito cotidiano la gente oye hablar de ML y piensa en películas como Minority Report, Matrix (o en Robocop, si vieron llegar a los Fenicios). Desgraciadamente, para ellos, el ML está más cerca de las matemáticas y la estadística que todo el mundo odia y no se parece en nada a robots asesinos sedientos de sangre humana. De hecho, todo lo que concierne al aprendizaje automático descansa sobre conceptos y abstracciones matemáticas que ofrecen soluciones a los problemas que enfrenta el ML.\n",
    "\n",
    "## ¿Cómo se crean los modelos?\n",
    "\n",
    "Existen 3 técnicas principales para crear los modelos:\n",
    "1. El aprendizaje SUPERVISADO\n",
    "2. El aprendizaje NO supervisado\n",
    "3. El aprendizaje REFORZADO \n",
    "\n",
    "Nosotros nos vamos a concentrar en estudiar el primer caso y a partir de ahí podremos entender cómo funcionan los otros dos\n",
    "\n",
    "## Aprendizaje supervisado... ¿y ahora qué?\n",
    "\n",
    "Bueno, para crear el modelo tenemos que darle a la máquina datos para que realice su aprendizaje. Para que nos entendamos estos datos tienen una **etiqueta(label) y unas características o dimensiones(features).** \n",
    "El objetivo entonces es conseguir que la máquina sea capaz de predecir la etiqueta en función de las características que le damos. \n",
    "\n",
    "Cuantas más características tenga una etiqueta mejor estará descrita y la máquina podrá predecir mejor en el futuro, pero también será más lento el proceso.\n",
    "\n",
    "Nuestro trabajo consistirá en seleccionar el mejor modelo que consiga solucionar el problema y además lo haga de la forma más rápida. \n",
    "\n",
    "## Entonces ¿qué modelo elijo?\n",
    "\n",
    "Hay varios tipos, el más popular es la red neuronal, pero existen muchos: árboles de decisión, regresiones lineales o polinomiales... La elección dependerá del problema frente al que nos econtremos. \n",
    "\n",
    "Una vez elegido el modelo, el trabajo no ha hecho más que comenzar. Ahora tenemos que seleccinar los **hiperparámetros**, es decir, si hemos elegido una red neuronal, tenemos que decidir cuantas neuronas tendrá, cuantas cápas, etc. \n",
    "Gracias a los algoritmos de optimización la máquina encontrará los mejores hiperparámetros según los datos que le demos. Esto se llama **Entrenamiento**.\n",
    "\n",
    "Cuando termina el entrenamiento ya está la máquina lista para recibir nuevos datos, y ella solita nos dirá cuál es la etiqueta que le corresponde. \n",
    "\n",
    "Pues bien, gracias al Aprendizaje Supervisado podemos resolver problemas de regresión (variable continua) y de clasificación (variable discreta). \n",
    "\n",
    "Y para hacer todo esto necesitaremos hacer uso de *Scikit Learn* o más conocido como **SKLearn**"
   ]
  },
  {
   "cell_type": "markdown",
   "metadata": {},
   "source": [
    "# SKLEARN\n",
    "\n",
    "[Documentación](https://scikit-learn.org/stable/)\n",
    "\n",
    "[Mapa de algoritmos de SKLEARN](https://scikit-learn.org/stable/tutorial/machine_learning_map/index.html)\n",
    "\n",
    "SKLEARN es una de las librerías más completas para realizar ML. En ella podemos encontrar modelos ya desarrollados y listos para analizar los datos que les proporcionemos.\n",
    "\n",
    "Hacer ML con SKLEARN es extremádamente simple porque todos los modelos y algoritmos de ML están implementados en la arquitectura orientada a objetos en la que cada modelo dispone de su propia clase. \n",
    "\n",
    "El esquema sobre el que se trabaja es siempre el mismo, sea cual sea el modelo: \n",
    "\n",
    "1. seleccionar un estimador y unos hiperparámetros que guardamos en un objeto\n",
    "\n",
    "`model =  Estimador (h1, h2,... , hn)`\n",
    "\n",
    "2. entrenar el modelo con los datos de la tabla X y el vector y\n",
    "\n",
    "`model.fit(X,y)`\n",
    "\n",
    "3. evaluar el modelos\n",
    "\n",
    "`model.score(X,y)`\n",
    "\n",
    "4. usar el modelos\n",
    "\n",
    "`model.predict(X,y)`\n",
    "\n",
    "Siempre es la misma metodología para todos los modelos:\n",
    "\n",
    "`\n",
    "model = introduzca aquí el modelo()\n",
    "model.fit(X,y)\n",
    "model.score(X,y)\n",
    "model.predict(X)\n",
    "`"
   ]
  },
  {
   "cell_type": "markdown",
   "metadata": {},
   "source": [
    "## Modelo de regresión lineal\n",
    "\n",
    "En un modelo de regresión lineal buscaremos comprender el comportamiento de una serie de datos partiendo de una variable que toma **valores continuos**. "
   ]
  },
  {
   "cell_type": "code",
   "execution_count": 1,
   "metadata": {},
   "outputs": [],
   "source": [
    "# importamos las librerías \n",
    "import numpy as np\n",
    "import matplotlib.pyplot as plt"
   ]
  },
  {
   "cell_type": "code",
   "execution_count": 2,
   "metadata": {},
   "outputs": [
    {
     "data": {
      "image/png": "[encoded data removed]",
      "text/plain": [
       "<Figure size 432x288 with 1 Axes>"
      ]
     },
     "metadata": {
      "needs_background": "light"
     },
     "output_type": "display_data"
    }
   ],
   "source": [
    "# bloqueamos el random para que el ensayo sea reproducible\n",
    "np.random.seed(0)\n",
    "m = 100 #tamaño de la muestra\n",
    "\n",
    "X = np.linspace(0,10,m).reshape(m,1) #reshape hace que sea una matriz de dos dimensiones\n",
    "y = x + np.random.randn(m,1)\n",
    "\n",
    "# representamos los datos\n",
    "plt.scatter(X,y)\n",
    "plt.show()"
   ]
  },
  {
   "cell_type": "code",
   "execution_count": 3,
   "metadata": {},
   "outputs": [],
   "source": [
    "# importamos de sklearn el objeto del modelo\n",
    "from sklearn.linear_model import LinearRegression"
   ]
  },
  {
   "cell_type": "code",
   "execution_count": 4,
   "metadata": {},
   "outputs": [
    {
     "data": {
      "text/plain": [
       "0.8881140743377214"
      ]
     },
     "execution_count": 4,
     "metadata": {},
     "output_type": "execute_result"
    }
   ],
   "source": [
    "# usamos la clase LinearRegression\n",
    "model = LinearRegression()\n",
    "\n",
    "# entrenamos el modelo\n",
    "model.fit(X,y)\n",
    "\n",
    "# vemos su rendimiento\n",
    "model.score(X,y)"
   ]
  },
  {
   "cell_type": "markdown",
   "metadata": {},
   "source": [
    "La función `.score()` nos devuelve un valor que nos habla de la precisión del modelo. Esta precisión va de 0 a 1, siendo 1 una precisión perfecta y nuestro modelo siempre acertaría el resultado. \n",
    "\n",
    "En realidad es un valor que viene de la estadística y es llamado \"R cuadrado\" y se obtiene al realizar un análisis de mínimos cuadrados\n",
    "\n",
    "Bien, ahora usamos el método `.predict()` para pasarle los datos de \"X\". El método nos devolverá las nuevas etiquetas en forma de valores de \"y\" que nosotros vamos a guardar en una variable "
   ]
  },
  {
   "cell_type": "code",
   "execution_count": 5,
   "metadata": {},
   "outputs": [],
   "source": [
    "# usamos el método .predict()\n",
    "prediction = model.predict(X)"
   ]
  },
  {
   "cell_type": "markdown",
   "metadata": {},
   "source": [
    "ya estamos listos para representar el problema"
   ]
  },
  {
   "cell_type": "code",
   "execution_count": 6,
   "metadata": {},
   "outputs": [
    {
     "data": {
      "image/png": "[encoded data removed]",
      "text/plain": [
       "<Figure size 432x288 with 1 Axes>"
      ]
     },
     "metadata": {
      "needs_background": "light"
     },
     "output_type": "display_data"
    }
   ],
   "source": [
    "# representamos los puntos\n",
    "plt.scatter(X,y)\n",
    "\n",
    "# representamos la predicción\n",
    "plt.plot(X, prediction, c='r')\n",
    "plt.show()"
   ]
  },
  {
   "cell_type": "markdown",
   "metadata": {},
   "source": [
    "Felicidades, acabas de hacer ML gracias a las 4 líneas de código que vimos antes. \n",
    "\n",
    "Hay que decir una cosa, cuando hablamos de que hay que elegir el mejor modelo que se ajuste al problema nos referíamos a que no siempre vamos a hacer uso de `LinearRegression()` para resolver la papeleta. \n",
    "\n",
    "Veamos que ocurre si cambiamos los datos un poco y la nube de puntos sigue otro comportamiento.\n",
    "\n",
    "## Modelo de regresión polinomial"
   ]
  },
  {
   "cell_type": "code",
   "execution_count": 14,
   "metadata": {},
   "outputs": [
    {
     "data": {
      "image/png": "[encoded data removed]",
      "text/plain": [
       "<Figure size 432x288 with 1 Axes>"
      ]
     },
     "metadata": {
      "needs_background": "light"
     },
     "output_type": "display_data"
    }
   ],
   "source": [
    "# imaginemos un modelo diferente\n",
    "np.random.seed(0)\n",
    "m = 100\n",
    "X = np.linspace(0,10,m).reshape(m,1) \n",
    "y = X**2 + np.random.randn(m,1)       # hemos elevado la X**2\n",
    "\n",
    "plt.scatter(X,y)\n",
    "plt.show()"
   ]
  },
  {
   "cell_type": "code",
   "execution_count": 15,
   "metadata": {},
   "outputs": [
    {
     "data": {
      "image/png": "[encoded data removed]",
      "text/plain": [
       "<Figure size 432x288 with 1 Axes>"
      ]
     },
     "metadata": {
      "needs_background": "light"
     },
     "output_type": "display_data"
    }
   ],
   "source": [
    "# seguimos la misma ruta de antes\n",
    "model = LinearRegression()\n",
    "model.fit(X,y)\n",
    "model.score(X,y)\n",
    "prediction = model.predict(X)\n",
    "plt.scatter(X,y)\n",
    "plt.plot(X, prediction, c='r')\n",
    "plt.show()"
   ]
  },
  {
   "cell_type": "markdown",
   "metadata": {},
   "source": [
    "El resultado ahora no se ajusta tan bien. Esto se debe a que `LinearRegression()` no puede adaptarse bien a la curva, de modo que vamos a tener que bucear en sklear para buscar una clase que nos ayude a conseguir un comportamiento mejor."
   ]
  },
  {
   "cell_type": "code",
   "execution_count": 17,
   "metadata": {},
   "outputs": [],
   "source": [
    "# importamos la clase Support Vector Regression\n",
    "from sklearn.svm import SVR"
   ]
  },
  {
   "cell_type": "code",
   "execution_count": 18,
   "metadata": {},
   "outputs": [
    {
     "name": "stderr",
     "output_type": "stream",
     "text": [
      "C:\\Users\\Adarax\\anaconda3\\lib\\site-packages\\sklearn\\utils\\validation.py:72: DataConversionWarning: A column-vector y was passed when a 1d array was expected. Please change the shape of y to (n_samples, ), for example using ravel().\n",
      "  return f(**kwargs)\n"
     ]
    },
    {
     "data": {
      "image/png": "[encoded data removed]",
      "text/plain": [
       "<Figure size 432x288 with 1 Axes>"
      ]
     },
     "metadata": {
      "needs_background": "light"
     },
     "output_type": "display_data"
    }
   ],
   "source": [
    "model = SVR(C=100)\n",
    "model.fit(X,y)\n",
    "model.score(X,y)\n",
    "prediction = model.predict(X)\n",
    "\n",
    "# representamos gráficamente los puntos y la curva\n",
    "plt.scatter(X,y)\n",
    "plt.plot(X, prediction, c='r')\n",
    "plt.show()"
   ]
  },
  {
   "cell_type": "markdown",
   "metadata": {},
   "source": [
    "## Modelo de clasificación\n",
    "\n",
    "Veamos ahora como realizar un problema de clasificación utilizando el famoso dataset del Titanic. El problema consistirá en clasificar a los pasajeros en función de si han sobrevivido o no. En este caso hablamos de clasificación y no de regresión puesto que nuestros datos tomarán valores discretos."
   ]
  },
  {
   "cell_type": "code",
   "execution_count": 4,
   "metadata": {},
   "outputs": [],
   "source": [
    "import pandas as pd\n",
    "import seaborn as sns"
   ]
  },
  {
   "cell_type": "code",
   "execution_count": 5,
   "metadata": {},
   "outputs": [
    {
     "data": {
      "text/html": [
       "<div>\n",
       "<style scoped>\n",
       "    .dataframe tbody tr th:only-of-type {\n",
       "        vertical-align: middle;\n",
       "    }\n",
       "\n",
       "    .dataframe tbody tr th {\n",
       "        vertical-align: top;\n",
       "    }\n",
       "\n",
       "    .dataframe thead th {\n",
       "        text-align: right;\n",
       "    }\n",
       "</style>\n",
       "<table border=\"1\" class=\"dataframe\">\n",
       "  <thead>\n",
       "    <tr style=\"text-align: right;\">\n",
       "      <th></th>\n",
       "      <th>survived</th>\n",
       "      <th>pclass</th>\n",
       "      <th>sex</th>\n",
       "      <th>age</th>\n",
       "      <th>sibsp</th>\n",
       "      <th>parch</th>\n",
       "      <th>fare</th>\n",
       "      <th>embarked</th>\n",
       "      <th>class</th>\n",
       "      <th>who</th>\n",
       "      <th>adult_male</th>\n",
       "      <th>deck</th>\n",
       "      <th>embark_town</th>\n",
       "      <th>alive</th>\n",
       "      <th>alone</th>\n",
       "    </tr>\n",
       "  </thead>\n",
       "  <tbody>\n",
       "    <tr>\n",
       "      <th>0</th>\n",
       "      <td>0</td>\n",
       "      <td>3</td>\n",
       "      <td>male</td>\n",
       "      <td>22.0</td>\n",
       "      <td>1</td>\n",
       "      <td>0</td>\n",
       "      <td>7.2500</td>\n",
       "      <td>S</td>\n",
       "      <td>Third</td>\n",
       "      <td>man</td>\n",
       "      <td>True</td>\n",
       "      <td>NaN</td>\n",
       "      <td>Southampton</td>\n",
       "      <td>no</td>\n",
       "      <td>False</td>\n",
       "    </tr>\n",
       "    <tr>\n",
       "      <th>1</th>\n",
       "      <td>1</td>\n",
       "      <td>1</td>\n",
       "      <td>female</td>\n",
       "      <td>38.0</td>\n",
       "      <td>1</td>\n",
       "      <td>0</td>\n",
       "      <td>71.2833</td>\n",
       "      <td>C</td>\n",
       "      <td>First</td>\n",
       "      <td>woman</td>\n",
       "      <td>False</td>\n",
       "      <td>C</td>\n",
       "      <td>Cherbourg</td>\n",
       "      <td>yes</td>\n",
       "      <td>False</td>\n",
       "    </tr>\n",
       "    <tr>\n",
       "      <th>2</th>\n",
       "      <td>1</td>\n",
       "      <td>3</td>\n",
       "      <td>female</td>\n",
       "      <td>26.0</td>\n",
       "      <td>0</td>\n",
       "      <td>0</td>\n",
       "      <td>7.9250</td>\n",
       "      <td>S</td>\n",
       "      <td>Third</td>\n",
       "      <td>woman</td>\n",
       "      <td>False</td>\n",
       "      <td>NaN</td>\n",
       "      <td>Southampton</td>\n",
       "      <td>yes</td>\n",
       "      <td>True</td>\n",
       "    </tr>\n",
       "    <tr>\n",
       "      <th>3</th>\n",
       "      <td>1</td>\n",
       "      <td>1</td>\n",
       "      <td>female</td>\n",
       "      <td>35.0</td>\n",
       "      <td>1</td>\n",
       "      <td>0</td>\n",
       "      <td>53.1000</td>\n",
       "      <td>S</td>\n",
       "      <td>First</td>\n",
       "      <td>woman</td>\n",
       "      <td>False</td>\n",
       "      <td>C</td>\n",
       "      <td>Southampton</td>\n",
       "      <td>yes</td>\n",
       "      <td>False</td>\n",
       "    </tr>\n",
       "    <tr>\n",
       "      <th>4</th>\n",
       "      <td>0</td>\n",
       "      <td>3</td>\n",
       "      <td>male</td>\n",
       "      <td>35.0</td>\n",
       "      <td>0</td>\n",
       "      <td>0</td>\n",
       "      <td>8.0500</td>\n",
       "      <td>S</td>\n",
       "      <td>Third</td>\n",
       "      <td>man</td>\n",
       "      <td>True</td>\n",
       "      <td>NaN</td>\n",
       "      <td>Southampton</td>\n",
       "      <td>no</td>\n",
       "      <td>True</td>\n",
       "    </tr>\n",
       "  </tbody>\n",
       "</table>\n",
       "</div>"
      ],
      "text/plain": [
       "   survived  pclass     sex   age  sibsp  parch     fare embarked  class  \\\n",
       "0         0       3    male  22.0      1      0   7.2500        S  Third   \n",
       "1         1       1  female  38.0      1      0  71.2833        C  First   \n",
       "2         1       3  female  26.0      0      0   7.9250        S  Third   \n",
       "3         1       1  female  35.0      1      0  53.1000        S  First   \n",
       "4         0       3    male  35.0      0      0   8.0500        S  Third   \n",
       "\n",
       "     who  adult_male deck  embark_town alive  alone  \n",
       "0    man        True  NaN  Southampton    no  False  \n",
       "1  woman       False    C    Cherbourg   yes  False  \n",
       "2  woman       False  NaN  Southampton   yes   True  \n",
       "3  woman       False    C  Southampton   yes  False  \n",
       "4    man        True  NaN  Southampton    no   True  "
      ]
     },
     "execution_count": 5,
     "metadata": {},
     "output_type": "execute_result"
    }
   ],
   "source": [
    "# Cargamos el dataset de titanic\n",
    "titanic = sns.load_dataset('titanic')\n",
    "\n",
    "titanic.shape\n",
    "\n",
    "# Verificamos que la tabla se ha cargado correctamente\n",
    "titanic.head()"
   ]
  },
  {
   "cell_type": "markdown",
   "metadata": {},
   "source": [
    "Para nuestro análisis no vamos a necesitar todos los datos, tan solo haremos uso de cuatro columnas:\n",
    "- superviviente\n",
    "- clase\n",
    "- sexo\n",
    "- edad. \n",
    "\n",
    "El resto de los datos los vamos a obviar para el ejercicio. \n",
    "\n",
    "Hay que mencionar también que la columna sexo contiene datos de tipo `str`. Para python lo mejor es darle datos de tipo numérico, así que vamos a hacer uso de la función `.replace()` para proporcionarle al dataset datos numéricos."
   ]
  },
  {
   "cell_type": "code",
   "execution_count": 4,
   "metadata": {},
   "outputs": [
    {
     "data": {
      "text/html": [
       "<div>\n",
       "<style scoped>\n",
       "    .dataframe tbody tr th:only-of-type {\n",
       "        vertical-align: middle;\n",
       "    }\n",
       "\n",
       "    .dataframe tbody tr th {\n",
       "        vertical-align: top;\n",
       "    }\n",
       "\n",
       "    .dataframe thead th {\n",
       "        text-align: right;\n",
       "    }\n",
       "</style>\n",
       "<table border=\"1\" class=\"dataframe\">\n",
       "  <thead>\n",
       "    <tr style=\"text-align: right;\">\n",
       "      <th></th>\n",
       "      <th>survived</th>\n",
       "      <th>pclass</th>\n",
       "      <th>sex</th>\n",
       "      <th>age</th>\n",
       "    </tr>\n",
       "  </thead>\n",
       "  <tbody>\n",
       "    <tr>\n",
       "      <th>0</th>\n",
       "      <td>0</td>\n",
       "      <td>3</td>\n",
       "      <td>0</td>\n",
       "      <td>22.0</td>\n",
       "    </tr>\n",
       "    <tr>\n",
       "      <th>1</th>\n",
       "      <td>1</td>\n",
       "      <td>1</td>\n",
       "      <td>1</td>\n",
       "      <td>38.0</td>\n",
       "    </tr>\n",
       "    <tr>\n",
       "      <th>2</th>\n",
       "      <td>1</td>\n",
       "      <td>3</td>\n",
       "      <td>1</td>\n",
       "      <td>26.0</td>\n",
       "    </tr>\n",
       "    <tr>\n",
       "      <th>3</th>\n",
       "      <td>1</td>\n",
       "      <td>1</td>\n",
       "      <td>1</td>\n",
       "      <td>35.0</td>\n",
       "    </tr>\n",
       "    <tr>\n",
       "      <th>4</th>\n",
       "      <td>0</td>\n",
       "      <td>3</td>\n",
       "      <td>0</td>\n",
       "      <td>35.0</td>\n",
       "    </tr>\n",
       "  </tbody>\n",
       "</table>\n",
       "</div>"
      ],
      "text/plain": [
       "   survived  pclass  sex   age\n",
       "0         0       3    0  22.0\n",
       "1         1       1    1  38.0\n",
       "2         1       3    1  26.0\n",
       "3         1       1    1  35.0\n",
       "4         0       3    0  35.0"
      ]
     },
     "execution_count": 4,
     "metadata": {},
     "output_type": "execute_result"
    }
   ],
   "source": [
    "# filtramos los datos\n",
    "titanic = titanic[['survived', 'pclass', 'sex', 'age']]\n",
    "titanic.dropna(axis=0, inplace=True)\n",
    "\n",
    "# reemplazamos los valores hombre y mujer por valores numéricos \n",
    "titanic['sex'].replace(['male', 'female'], [0, 1], inplace=True)\n",
    "titanic.head()"
   ]
  },
  {
   "cell_type": "markdown",
   "metadata": {},
   "source": [
    "Ahora que los datos están preprocesados vamos a crear un **modelo** que determine según el sexo, edad y clase si sobrevive o no a la castástrofe del Titianic. \n",
    "Para realizar este problema debemos saber que se trata de un problema de clasificación."
   ]
  },
  {
   "cell_type": "code",
   "execution_count": 5,
   "metadata": {},
   "outputs": [],
   "source": [
    "# cargamos la clase que vamos a usar\n",
    "from sklearn.neighbors import KNeighborsClassifier"
   ]
  },
  {
   "cell_type": "code",
   "execution_count": 6,
   "metadata": {},
   "outputs": [],
   "source": [
    "model = KNeighborsClassifier()"
   ]
  },
  {
   "cell_type": "markdown",
   "metadata": {},
   "source": [
    "Como ya hemos dicho, se trata de un problema de clasificación pero los datos que tenemos están en una matriz de pandas. Lo que tenemos que hacer es dividir estos datos, guardaremos la columna `['survived']` dentro de la etiqueta `y` y el resto de datos los guardaremos como características `X`"
   ]
  },
  {
   "cell_type": "code",
   "execution_count": 7,
   "metadata": {},
   "outputs": [],
   "source": [
    "y = titanic['survived']\n",
    "\n",
    "# seleccionamos todas las columnas excepto `survived`\n",
    "X = titanic.drop('survived', axis=1)"
   ]
  },
  {
   "cell_type": "code",
   "execution_count": 8,
   "metadata": {},
   "outputs": [
    {
     "data": {
      "text/plain": [
       "0.8319327731092437"
      ]
     },
     "execution_count": 8,
     "metadata": {},
     "output_type": "execute_result"
    }
   ],
   "source": [
    "# entrenamos y evaluamos el rendimiento\n",
    "model.fit(X,y)\n",
    "model.score(X,y)"
   ]
  },
  {
   "cell_type": "code",
   "execution_count": 9,
   "metadata": {},
   "outputs": [
    {
     "data": {
      "text/plain": [
       "array([0, 1, 0, 1, 0, 0, 0, 1, 1, 1, 1, 0, 0, 0, 1, 0, 0, 0, 0, 1, 1, 0,\n",
       "       0, 0, 0, 0, 1, 0, 0, 0, 0, 0, 0, 1, 1, 0, 0, 0, 1, 1, 0, 0, 0, 1,\n",
       "       0, 0, 1, 0, 0, 1, 0, 1, 0, 0, 1, 0, 0, 1, 0, 1, 0, 0, 1, 1, 1, 0,\n",
       "       0, 1, 0, 1, 0, 0, 0, 0, 0, 0, 1, 0, 0, 0, 0, 0, 0, 0, 0, 0, 1, 0,\n",
       "       0, 1, 0, 0, 0, 0, 0, 0, 0, 1, 0, 0, 0, 0, 0, 0, 0, 1, 0, 0, 1, 1,\n",
       "       0, 0, 1, 1, 0, 0, 0, 1, 0, 0, 0, 0, 1, 0, 0, 0, 1, 0, 0, 1, 0, 0,\n",
       "       1, 0, 0, 0, 0, 0, 1, 0, 0, 0, 1, 0, 0, 0, 1, 1, 0, 0, 0, 1, 0, 1,\n",
       "       1, 1, 1, 0, 1, 0, 0, 0, 0, 0, 1, 0, 1, 0, 0, 1, 0, 0, 1, 1, 0, 1,\n",
       "       0, 0, 0, 0, 0, 0, 0, 0, 0, 1, 1, 0, 1, 0, 0, 1, 0, 0, 0, 0, 0, 0,\n",
       "       0, 1, 1, 0, 0, 0, 0, 0, 0, 1, 1, 1, 1, 1, 0, 0, 0, 0, 1, 1, 0, 1,\n",
       "       1, 0, 0, 0, 0, 0, 0, 0, 0, 0, 0, 0, 0, 1, 1, 1, 0, 1, 0, 0, 1, 1,\n",
       "       0, 1, 1, 0, 1, 1, 1, 1, 0, 0, 0, 1, 0, 1, 1, 0, 1, 1, 1, 1, 0, 1,\n",
       "       0, 1, 0, 0, 0, 0, 1, 0, 0, 1, 1, 0, 0, 0, 1, 1, 1, 0, 0, 0, 0, 0,\n",
       "       1, 1, 0, 0, 0, 0, 0, 0, 1, 0, 0, 0, 1, 0, 1, 1, 0, 0, 1, 1, 1, 1,\n",
       "       0, 1, 1, 1, 1, 0, 0, 1, 1, 0, 0, 0, 0, 1, 0, 0, 0, 0, 0, 0, 0, 1,\n",
       "       0, 1, 0, 1, 1, 0, 0, 0, 1, 0, 0, 1, 1, 1, 1, 1, 0, 0, 1, 0, 1, 0,\n",
       "       0, 0, 0, 0, 1, 1, 1, 0, 1, 1, 0, 0, 1, 1, 0, 1, 1, 0, 0, 1, 0, 0,\n",
       "       1, 0, 1, 0, 1, 0, 1, 0, 0, 0, 0, 1, 0, 1, 1, 0, 0, 0, 0, 0, 0, 1,\n",
       "       1, 0, 0, 0, 1, 1, 0, 1, 0, 0, 1, 1, 1, 0, 0, 1, 1, 1, 1, 0, 1, 0,\n",
       "       1, 0, 0, 0, 0, 0, 1, 0, 1, 1, 1, 0, 0, 0, 0, 0, 1, 0, 1, 1, 0, 0,\n",
       "       1, 0, 1, 1, 1, 0, 0, 0, 0, 0, 1, 0, 1, 1, 0, 0, 1, 1, 1, 1, 1, 0,\n",
       "       1, 1, 0, 0, 0, 0, 1, 0, 0, 0, 0, 1, 1, 0, 1, 0, 0, 1, 1, 1, 0, 0,\n",
       "       1, 0, 0, 1, 0, 1, 0, 0, 0, 0, 0, 0, 1, 0, 0, 0, 1, 0, 1, 1, 0, 0,\n",
       "       0, 1, 0, 1, 1, 0, 0, 1, 1, 0, 0, 0, 0, 0, 1, 0, 0, 0, 0, 0, 0, 0,\n",
       "       0, 1, 1, 0, 0, 0, 0, 0, 0, 1, 1, 0, 0, 0, 0, 0, 0, 0, 1, 1, 1, 0,\n",
       "       0, 0, 0, 1, 0, 1, 1, 0, 0, 0, 0, 0, 0, 1, 1, 1, 1, 0, 0, 1, 0, 0,\n",
       "       1, 0, 0, 1, 1, 0, 1, 0, 0, 1, 0, 0, 0, 0, 0, 1, 1, 1, 0, 0, 0, 0,\n",
       "       1, 0, 0, 1, 0, 0, 0, 1, 1, 0, 0, 0, 1, 0, 0, 1, 0, 1, 0, 1, 0, 0,\n",
       "       1, 1, 0, 1, 1, 1, 1, 0, 0, 0, 0, 0, 1, 0, 0, 0, 0, 1, 0, 0, 0, 0,\n",
       "       1, 0, 1, 1, 0, 0, 0, 0, 1, 0, 0, 0, 1, 0, 1, 0, 0, 0, 1, 1, 0, 1,\n",
       "       0, 1, 0, 1, 1, 0, 0, 1, 0, 1, 0, 0, 1, 0, 0, 0, 0, 0, 0, 0, 0, 1,\n",
       "       1, 0, 1, 0, 1, 0, 0, 1, 0, 1, 0, 1, 0, 0, 0, 1, 0, 1, 1, 0, 0, 0,\n",
       "       1, 0, 1, 0, 0, 0, 0, 1, 1, 1], dtype=int64)"
      ]
     },
     "execution_count": 9,
     "metadata": {},
     "output_type": "execute_result"
    }
   ],
   "source": [
    "# aquí vemos quienes viven y quienes mueren\n",
    "model.predict(X)"
   ]
  },
  {
   "cell_type": "markdown",
   "metadata": {},
   "source": [
    "Ahora que ya está el modelo listo vamos a crear una función a la que le pasaremos el modelo y los datos de la clase, el sexo y la edad para que nos diga quien vive o quien muere. Por defecto a los parámetros les doy valores de mi perfil."
   ]
  },
  {
   "cell_type": "code",
   "execution_count": 10,
   "metadata": {},
   "outputs": [],
   "source": [
    "# creamos una función sobrevivir\n",
    "\n",
    "def sobrevivir(model, pclass=3, sex=0, age=30):\n",
    "    x = np.array([pclass, sex, age]).reshape(1,3) # no olvidemos el método .reshape() para que esto tenga dos dimensiones\n",
    "    print(model.predict(x))\n",
    "    print(model.predict_proba(x)) # calcular la probabilidad de que se den cada etiqueta"
   ]
  },
  {
   "cell_type": "code",
   "execution_count": 13,
   "metadata": {},
   "outputs": [
    {
     "name": "stdout",
     "output_type": "stream",
     "text": [
      "[0]\n",
      "[[0.8 0.2]]\n"
     ]
    }
   ],
   "source": [
    "# sobrebiviremos?\n",
    "sobrevivir(model)"
   ]
  },
  {
   "cell_type": "code",
   "execution_count": 24,
   "metadata": {},
   "outputs": [
    {
     "name": "stdout",
     "output_type": "stream",
     "text": [
      "[1]\n",
      "[[0.4 0.6]]\n"
     ]
    }
   ],
   "source": [
    "# Probaremos ahora con otros datos\n",
    "\n",
    "sobrevivir(model,2,1,20)"
   ]
  },
  {
   "cell_type": "markdown",
   "metadata": {},
   "source": [
    "## Practica\n",
    "\n",
    "Cambiar el hiperparámentro `n_neighbors` del método de clasificación para buscar el mejor resultado entre 0-10\n",
    "\n",
    "`model = KNeighborsClassifier(n_neighbors=?)`"
   ]
  },
  {
   "cell_type": "code",
   "execution_count": 20,
   "metadata": {},
   "outputs": [],
   "source": [
    "score = []\n",
    "\n",
    "for i in range(1,10):\n",
    "    model = KNeighborsClassifier(n_neighbors=i)\n",
    "    y = titanic['survived']\n",
    "    X = titanic.drop('survived', axis=1)\n",
    "    model.fit(X,y)\n",
    "    score.append(model.score(X,y))"
   ]
  },
  {
   "cell_type": "code",
   "execution_count": 21,
   "metadata": {},
   "outputs": [
    {
     "data": {
      "text/plain": [
       "[0.8473389355742297,\n",
       " 0.8585434173669467,\n",
       " 0.8585434173669467,\n",
       " 0.8403361344537815,\n",
       " 0.8319327731092437,\n",
       " 0.8221288515406162,\n",
       " 0.8207282913165266,\n",
       " 0.8109243697478992,\n",
       " 0.8179271708683473]"
      ]
     },
     "execution_count": 21,
     "metadata": {},
     "output_type": "execute_result"
    }
   ],
   "source": [
    "score"
   ]
  },
  {
   "cell_type": "code",
   "execution_count": 22,
   "metadata": {},
   "outputs": [
    {
     "data": {
      "image/png": "[encoded data removed]",
      "text/plain": [
       "<Figure size 432x288 with 1 Axes>"
      ]
     },
     "metadata": {
      "needs_background": "light"
     },
     "output_type": "display_data"
    }
   ],
   "source": [
    "plt.plot(score)\n",
    "plt.show()"
   ]
  },
  {
   "cell_type": "code",
   "execution_count": 23,
   "metadata": {},
   "outputs": [
    {
     "name": "stdout",
     "output_type": "stream",
     "text": [
      "Mejor rendimiento:  0.8585434173669467\n",
      "Posición en el array:  1\n"
     ]
    }
   ],
   "source": [
    "print(\"Mejor rendimiento: \", max(score))\n",
    "print('Posición en el array: ', score.index(max(score)))"
   ]
  }
 ],
 "metadata": {
  "kernelspec": {
   "display_name": "Python 3",
   "language": "python",
   "name": "python3"
  },
  "language_info": {
   "codemirror_mode": {
    "name": "ipython",
    "version": 3
   },
   "file_extension": ".py",
   "mimetype": "text/x-python",
   "name": "python",
   "nbconvert_exporter": "python",
   "pygments_lexer": "ipython3",
   "version": "3.8.5"
  },
  "toc": {
   "base_numbering": 1,
   "nav_menu": {},
   "number_sections": false,
   "sideBar": true,
   "skip_h1_title": false,
   "title_cell": "Table of Contents",
   "title_sidebar": "Contents",
   "toc_cell": false,
   "toc_position": {
    "height": "calc(100% - 180px)",
    "left": "10px",
    "top": "150px",
    "width": "320.156px"
   },
   "toc_section_display": true,
   "toc_window_display": true
  }
 },
 "nbformat": 4,
 "nbformat_minor": 4
}
