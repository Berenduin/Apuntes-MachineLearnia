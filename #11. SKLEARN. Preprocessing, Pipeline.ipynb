{
 "cells": [
  {
   "cell_type": "markdown",
   "metadata": {},
   "source": [
    "# Preprocesamiento de datos\n",
    "\n",
    "[Video](https://www.youtube.com/watch?v=OGWwzm304Xs)\n",
    "\n",
    "Para desarrollar los algoritmos de machine learning necesitamos abastecer a nuestros modelos con datos. Estos datos tiene que estar bien estructurados y deben ser de la mejor calidad posible. Para alcanzar esta calidad antes debemos hacer un buen trabajo de preprocesamiento para **limpiar, ordenar y filtrar** los datos que vamos a darle a la máquina.\n",
    "\n",
    "Esto es un trabajo muy importante para la ciencia de datos. Limpiar, ordenar y filtrar es la mitad del trabajo antes de pasar a manipular los datos y sacar conclusiones.\n",
    "    \n",
    "\n",
    "El proceso lógico es el siguiente:\n",
    "\n",
    "    - CODIFICAR. Transformar valores cualitativos en valores cuantitativos.\n",
    "    - NORMALIZAR. Estudiar la frecuencia de los valores cuantitativos.\n",
    "    - IMPUTAR. Cambiar valores que faltan por un valor estadístico.\n",
    "    - SELECCIONAR VARIABLES. Seleccionar las variables relevantes para el modelo.\n",
    "    - EXTRAER. Generar una nueva información a partir de los datos.\n",
    "    \n",
    "\n",
    "Para todo este proceso Sklearn posee diferentes módulos: \n",
    "\n",
    "1. codificar y normalizar `sklearn.preprocesing`\n",
    "2. imputar `sklearn.impute`\n",
    "3. selection `sklearn.feature_selection`\n",
    "4. extraction `sklearn.feature_extraction`"
   ]
  },
  {
   "cell_type": "markdown",
   "metadata": {},
   "source": [
    "## Preprocessing. Preprocesado\n",
    "\n",
    "En este documento nos vamos a centrar en el preprocesamiento de datos y nos vamos a centrar en el módulo de `sklearn.preprocesing`. El resto de módulos se explicarán en documentos ulteriores.\n",
    "\n",
    "[Referencia API](https://scikit-learn.org/stable/modules/classes.html#module-sklearn.preprocessing)\n",
    "\n",
    "[Guia de usuario](https://scikit-learn.org/stable/modules/preprocessing.html#preprocessing)\n",
    "\n",
    "Si nos vamos al enlace de la referencia API veremos que aparecen ordenados dos grupos, el primero las clases de transformadores se identifican bien porque empiezan por mayúscula y luego, en minúscula, las funciones matemáticas. \n",
    "Lo que más nos interesan son las clases, porque nos brindan una interfaz de programación muy sencilla y útil."
   ]
  },
  {
   "cell_type": "code",
   "execution_count": 1,
   "metadata": {},
   "outputs": [],
   "source": [
    "# cargamos lo módulos\n",
    "import numpy as np\n",
    "from sklearn.preprocessing import LabelEncoder"
   ]
  },
  {
   "cell_type": "code",
   "execution_count": 2,
   "metadata": {},
   "outputs": [],
   "source": [
    "X = np.array(['gato',\n",
    "              'perro',\n",
    "              'gato',\n",
    "              'pájaro']) #no te olvides de las comas"
   ]
  },
  {
   "cell_type": "code",
   "execution_count": 3,
   "metadata": {},
   "outputs": [
    {
     "data": {
      "text/plain": [
       "LabelEncoder()"
      ]
     },
     "execution_count": 3,
     "metadata": {},
     "output_type": "execute_result"
    }
   ],
   "source": [
    "transformer = LabelEncoder() # inicializamos la codificación\n",
    "transformer.fit(X) # al método .fit() le pasamos el array con los datos"
   ]
  },
  {
   "cell_type": "code",
   "execution_count": 4,
   "metadata": {},
   "outputs": [
    {
     "data": {
      "text/plain": [
       "array([0, 1, 0, 2], dtype=int64)"
      ]
     },
     "execution_count": 4,
     "metadata": {},
     "output_type": "execute_result"
    }
   ],
   "source": [
    "transformer.transform(X) # transformamos los datos en valores"
   ]
  },
  {
   "cell_type": "markdown",
   "metadata": {},
   "source": [
    "Estos dos métodos se pueden simplificar en uno solo:  `.fit_transform()`"
   ]
  },
  {
   "cell_type": "code",
   "execution_count": 5,
   "metadata": {},
   "outputs": [
    {
     "data": {
      "text/plain": [
       "array([0, 1, 0, 2], dtype=int64)"
      ]
     },
     "execution_count": 5,
     "metadata": {},
     "output_type": "execute_result"
    }
   ],
   "source": [
    "transformer.fit_transform(X)"
   ]
  },
  {
   "cell_type": "markdown",
   "metadata": {},
   "source": [
    "## Encoder (codificar)\n",
    "\n",
    "En los modelos de machine learning es necesario presentarle los datos en forma numérica. Si nuestro dataset tiene datos cualitativos es indispensable convertirlos en valores numéricos. Es decir, codificar la información.\n",
    "\n",
    "En sklearn existen 5 codificadores:\n",
    "1. `preprocessing.LabelBinarizer()`\n",
    "2. `preprocessing.LabelEncoder`\n",
    "3. `preprocessing.MultilabelBinarizer()`\n",
    "4. `preprocessing.OneHotEncoder()`\n",
    "5. `preprocessing.OrdinalEncoder()`\n",
    "    \n",
    "Estos coficicadores permiten realizar uno de los dos tipos de codificación:\n",
    "1. Codificación Ordinal\n",
    "2. Codificación One-Hot\n",
    "\n",
    "La Codificación Ordinal consiste simplemente a asocial cada categoría de la variable a un valor decimal. \n",
    "Para esto usamos `LabelEncoder` y `OrdinalEncoder`\n",
    "\n",
    "### LabelEncoder"
   ]
  },
  {
   "cell_type": "code",
   "execution_count": 4,
   "metadata": {},
   "outputs": [],
   "source": [
    "import matplotlib.pyplot as plt\n",
    "from sklearn.preprocessing import LabelEncoder"
   ]
  },
  {
   "cell_type": "code",
   "execution_count": 7,
   "metadata": {},
   "outputs": [],
   "source": [
    "y = np.array(['gato', 'perro', 'gato', 'pájaro']) #creamos el dataset"
   ]
  },
  {
   "cell_type": "code",
   "execution_count": 8,
   "metadata": {},
   "outputs": [
    {
     "data": {
      "text/plain": [
       "array([0, 1, 0, 2], dtype=int64)"
      ]
     },
     "execution_count": 8,
     "metadata": {},
     "output_type": "execute_result"
    }
   ],
   "source": [
    "# creamos un objeto de la clase LabelEncoder()\n",
    "encoder = LabelEncoder()\n",
    "\n",
    "# usamos el método para codificar los datos\n",
    "encoder.fit_transform(y)"
   ]
  },
  {
   "cell_type": "markdown",
   "metadata": {},
   "source": [
    "Los datos ya están codificados y a cada categoría se le ha asignado un valor numérico. Ahora podemos hacer el proceso inverso y preguntarle por un número para que nos diga a qué palabra corresponde."
   ]
  },
  {
   "cell_type": "code",
   "execution_count": 9,
   "metadata": {},
   "outputs": [
    {
     "data": {
      "text/plain": [
       "array(['gato', 'gato', 'gato', 'pájaro'], dtype='<U6')"
      ]
     },
     "execution_count": 9,
     "metadata": {},
     "output_type": "execute_result"
    }
   ],
   "source": [
    "encoder.inverse_transform(np.array([0, 0, 0, 2]))"
   ]
  },
  {
   "cell_type": "markdown",
   "metadata": {},
   "source": [
    "__OJO. Este proceso es muy sensible a faltas de ortografía, por lo que tenemos que vigilar ese detalle.__"
   ]
  },
  {
   "cell_type": "code",
   "execution_count": 10,
   "metadata": {},
   "outputs": [
    {
     "data": {
      "text/plain": [
       "array([1, 3, 1, 4, 2, 0], dtype=int64)"
      ]
     },
     "execution_count": 10,
     "metadata": {},
     "output_type": "execute_result"
    }
   ],
   "source": [
    "z = np.array(['gato', 'perro', 'gato', 'pájaro', 'pajaro', 'Pájaro'])\n",
    "encoder = LabelEncoder()\n",
    "encoder.fit_transform(z)"
   ]
  },
  {
   "cell_type": "markdown",
   "metadata": {},
   "source": [
    "### OrdinalEncoder"
   ]
  },
  {
   "cell_type": "markdown",
   "metadata": {},
   "source": [
    "Imaginemos tener un dataset de dos dimensiones. Por lo que hemos visto lo podríamos aplicar el LabelEncoder"
   ]
  },
  {
   "cell_type": "code",
   "execution_count": 11,
   "metadata": {},
   "outputs": [],
   "source": [
    "X = np.array([['gato','pollo'],\n",
    "             ['perro', 'gato'],\n",
    "             ['pájaro', 'oveja'],\n",
    "             ['pollo', 'perro']])"
   ]
  },
  {
   "cell_type": "code",
   "execution_count": 12,
   "metadata": {
    "scrolled": true
   },
   "outputs": [],
   "source": [
    "# esto nos devuelve un error por tratarse de un array de 2 dimensiones\n",
    "# encoder.fit_transform(X)"
   ]
  },
  {
   "cell_type": "markdown",
   "metadata": {},
   "source": [
    "Si leemos el error nos dice que el valor que le hemos pasado debería de ser un array de 1 dimensión, pero que en este caso su dimensión es mayor por tratarse de un array (4,2)\n",
    "\n",
    "Para este caso necesitamos usar `OrdinalEncoder` que es el método capaz de tratar con la matriz de datos que normalmente denotamos como `X`"
   ]
  },
  {
   "cell_type": "code",
   "execution_count": 13,
   "metadata": {},
   "outputs": [],
   "source": [
    "# importamos la clase que vamos a usar\n",
    "from sklearn.preprocessing import OrdinalEncoder"
   ]
  },
  {
   "cell_type": "code",
   "execution_count": 14,
   "metadata": {},
   "outputs": [
    {
     "data": {
      "text/plain": [
       "array([[0., 3.],\n",
       "       [1., 0.],\n",
       "       [3., 1.],\n",
       "       [2., 2.]])"
      ]
     },
     "execution_count": 14,
     "metadata": {},
     "output_type": "execute_result"
    }
   ],
   "source": [
    "# rebautizamos el objeto usando otra clase\n",
    "encoder = OrdinalEncoder()\n",
    "\n",
    "# le pasamos los datos de la matriz de valores\n",
    "encoder.fit_transform(X)"
   ]
  },
  {
   "cell_type": "markdown",
   "metadata": {},
   "source": [
    "leyendo estos valores que hemos codificado podríamos pensar que hay categorías con valores mayores que otras. Nada más lejos de la realidad, se le asigna un número por el orden de aparición y no se pueden relacionar unas categorías con otras. No se ùeden relacionar aritméticamente los datos.\n",
    "\n",
    "Por eso usaremos los métodos ONE HOT donde encontramos los codificadores:\n",
    "1. `LabelBinarizer`\n",
    "2. `MultilabelBinarizer`\n",
    "3. `OneHotEncoder`\n",
    "\n",
    "En este proceso de codificación ONE HOT lo que hacemos es crear una matriz de valores binarios donde cada categoría está representada por una columna. \n",
    "\n",
    "### LabelBinarizer"
   ]
  },
  {
   "cell_type": "code",
   "execution_count": 15,
   "metadata": {},
   "outputs": [],
   "source": [
    "from sklearn.preprocessing import LabelBinarizer"
   ]
  },
  {
   "cell_type": "code",
   "execution_count": 16,
   "metadata": {},
   "outputs": [],
   "source": [
    "y = np.array(['gato', 'perro', 'gato', 'pájaro'])"
   ]
  },
  {
   "cell_type": "code",
   "execution_count": 17,
   "metadata": {},
   "outputs": [
    {
     "data": {
      "text/plain": [
       "array([[1, 0, 0],\n",
       "       [0, 1, 0],\n",
       "       [1, 0, 0],\n",
       "       [0, 0, 1]])"
      ]
     },
     "execution_count": 17,
     "metadata": {},
     "output_type": "execute_result"
    }
   ],
   "source": [
    "encoder = LabelBinarizer() #creamos un objeto LabelBinarizer\n",
    "encoder.fit_transform(y)"
   ]
  },
  {
   "cell_type": "markdown",
   "metadata": {},
   "source": [
    "Veamos lo que hemos obtenido. Para esta matríz se han creado 3 columnas y 4 filas, que corresponden a las 3 categorías y a los 4 valores del array.\n",
    "\n",
    "En este caso contamos con muy pocos datos, pero si nos imaginamos realizar esta codificación con centenares de datos podemos tener matrices gigantes llenas de unos y ceros que son muy pesadas. \n",
    "En ralidad estamos creando matrices **hueca** (*sparse matrix*) y los espacios con valor 0 no ocupan espacio en memoria. \n",
    "\n",
    "Imaginemos un ejemplo:"
   ]
  },
  {
   "cell_type": "code",
   "execution_count": 18,
   "metadata": {},
   "outputs": [],
   "source": [
    "# tenemos una matriz 5x5 con tres valores a, b y c\n",
    "\n",
    "A = ([['a', 0, 0, 0, 0],\n",
    "      [0, 0, 'b', 0, 0],\n",
    "      [0, 0, 0, 0, 0],\n",
    "      [0, 0, 0, 0,'c'],\n",
    "      [0, 0, 0, 0, 0]])"
   ]
  },
  {
   "cell_type": "code",
   "execution_count": 19,
   "metadata": {},
   "outputs": [],
   "source": [
    "# podemos organizar los datos en tres vectores: \n",
    "values = ['a','b','c']\n",
    "rows   = [0,1,3]\n",
    "cols   = [0,2,4]"
   ]
  },
  {
   "cell_type": "markdown",
   "metadata": {},
   "source": [
    "Podríamos decir que la matriz `A` 5x5 sería equivalente a la matriz 3x3 formada por los tres vectores. En `A` tenemos todos los huecos llenos de `0` y en la nueva matriz tenemos los valores y la posición que ocupan.\n",
    "\n",
    "Esta forma de empaquetar los datos se llama **Compressed Sparse Row**, lo que en español se podría traducir como: compresión de huecos de filas. Y de hecho, `LabelBinarizer` contiene un parámetro para obtener esto mismo de lo que hablamos. `sparse_output=True`"
   ]
  },
  {
   "cell_type": "code",
   "execution_count": 20,
   "metadata": {},
   "outputs": [
    {
     "data": {
      "text/plain": [
       "<4x3 sparse matrix of type '<class 'numpy.int32'>'\n",
       "\twith 4 stored elements in Compressed Sparse Row format>"
      ]
     },
     "execution_count": 20,
     "metadata": {},
     "output_type": "execute_result"
    }
   ],
   "source": [
    "encoder = LabelBinarizer(sparse_output=True) #creamos un objeto LabelBinarizer\n",
    "encoder.fit_transform(y)"
   ]
  },
  {
   "cell_type": "code",
   "execution_count": 21,
   "metadata": {},
   "outputs": [
    {
     "data": {
      "text/plain": [
       "<4x8 sparse matrix of type '<class 'numpy.float64'>'\n",
       "\twith 8 stored elements in Compressed Sparse Row format>"
      ]
     },
     "execution_count": 21,
     "metadata": {},
     "output_type": "execute_result"
    }
   ],
   "source": [
    "from sklearn.preprocessing import OneHotEncoder\n",
    "\n",
    "X = np.array([['gato','pollo'],\n",
    "             ['perro', 'gato'],\n",
    "             ['pájaro', 'oveja'],\n",
    "             ['pollo', 'perro']])\n",
    "\n",
    "encoder = OneHotEncoder()\n",
    "encoder.fit_transform(X)"
   ]
  },
  {
   "cell_type": "markdown",
   "metadata": {},
   "source": [
    "Con esto queda visto todo lo relativo a la codificación y ahora nos toca ver algo muy importante en el preprocesado: la Normalización\n",
    "\n",
    "## Normalización\n",
    "\n",
    "Es indispensable normalizar los datos y organizarlos bajo una misma escala. Este proceso de normalización puede ser determinante para alcanzar el éxito en nuestro modelo y es bastante útil en casos como el uso del Descenso del Gradiente.\n",
    "\n",
    "Aquí encontramos:\n",
    "1. `preprocessing.MinMaxScaler()`\n",
    "2. `preprocessing.RobustScaler()`\n",
    "3. `preprocessing.StandardScaler()`\n",
    "\n",
    "Veamos cada uno de ellos\n",
    "\n",
    "### Normalización MinMax\n",
    "\n",
    "Consiste en transformar cada variable y asignarle un valor equivalente dentro del intervalo 0 y 1."
   ]
  },
  {
   "cell_type": "markdown",
   "metadata": {},
   "source": [
    "Lo que obtenemos es otro array con datos que no son realmente muy útiles para nosotros, pero sí para la máquina. \n",
    "Si ahora le aportamos nuevos datos, ella los va a automáticamente a transformar en base a lo que ya le hemos dado, puesto que le hemos dado el invervalo entre 70-120 y ella lo ha transformado en un intervalo 0-1."
   ]
  },
  {
   "cell_type": "code",
   "execution_count": 8,
   "metadata": {},
   "outputs": [
    {
     "data": {
      "text/plain": [
       "array([[0. ],\n",
       "       [0.2],\n",
       "       [1. ]])"
      ]
     },
     "execution_count": 8,
     "metadata": {},
     "output_type": "execute_result"
    }
   ],
   "source": [
    "# importamos la clase\n",
    "from sklearn.preprocessing import MinMaxScaler\n",
    "\n",
    "# imaginemos un vector de superficies de 3 pisos\n",
    "X = np.array([[70],\n",
    "              [80],\n",
    "              [120]])\n",
    "\n",
    "# creamos el objeto de la clase MinMaxScaler\n",
    "scaler = MinMaxScaler()\n",
    "\n",
    "# le pasamos los datos de X\n",
    "scaler.fit_transform(X)"
   ]
  },
  {
   "cell_type": "code",
   "execution_count": 23,
   "metadata": {},
   "outputs": [
    {
     "data": {
      "text/plain": [
       "array([[0.4]])"
      ]
     },
     "execution_count": 23,
     "metadata": {},
     "output_type": "execute_result"
    }
   ],
   "source": [
    "# usamos un dato de validación y lo transofmamos\n",
    "X_test = np.array([[90]])\n",
    "scaler.transform(X_test)"
   ]
  },
  {
   "cell_type": "markdown",
   "metadata": {},
   "source": [
    "### Standard Scaler. Escalado estadar\n",
    "\n",
    "La normalización estandar toma como intervalo los valores en -1 y 1, siendo la media de este intervalo el valor 0.\n",
    "Veamos como el proceso es idéntico al ya visto, pero los datos que nos devuelve son diferentes."
   ]
  },
  {
   "cell_type": "code",
   "execution_count": 10,
   "metadata": {},
   "outputs": [
    {
     "data": {
      "text/plain": [
       "array([[-0.9258201 ],\n",
       "       [-0.46291005],\n",
       "       [ 1.38873015]])"
      ]
     },
     "execution_count": 10,
     "metadata": {},
     "output_type": "execute_result"
    }
   ],
   "source": [
    "# importamos la clase\n",
    "from sklearn.preprocessing import StandardScaler\n",
    "\n",
    "# imaginemos un vector de superficies de 3 pisos\n",
    "X = np.array([[70],\n",
    "              [80],\n",
    "              [120]])\n",
    "\n",
    "# creamos el objeto de la clase StandardScaler\n",
    "scaler = StandardScaler()\n",
    "\n",
    "# le pasamos los datos de X\n",
    "scaler.fit_transform(X)"
   ]
  },
  {
   "cell_type": "markdown",
   "metadata": {},
   "source": [
    "### ¡OJO!\n",
    "porque estos procesos son sensibles a los valores aberrantes, es decir, valores muy alejados de los que tenemos en el dataset. Veámoslo con el ejemplo de los datos de la flor de iris."
   ]
  },
  {
   "cell_type": "code",
   "execution_count": 11,
   "metadata": {},
   "outputs": [
    {
     "data": {
      "image/png": "[encoded data removed]",
      "text/plain": [
       "<Figure size 432x288 with 1 Axes>"
      ]
     },
     "metadata": {
      "needs_background": "light"
     },
     "output_type": "display_data"
    }
   ],
   "source": [
    "# importamos el dataset\n",
    "from sklearn.datasets import load_iris\n",
    "\n",
    "# creamos el objeto iris y le pasamos los datos a la variable X\n",
    "iris = load_iris()\n",
    "X = iris.data\n",
    "\n",
    "# usamos las dos normalizaciones\n",
    "X_minMAX = MinMaxScaler().fit_transform(X)\n",
    "X_stdscl = StandardScaler().fit_transform(X)\n",
    "\n",
    "# representamos los datos originales\n",
    "plt.scatter(X[:,2], X[:,3], alpha=0.5, label='original')\n",
    "\n",
    "# representamos las normalizaciones\n",
    "plt.scatter(X_minMAX[:,2], X_minMAX[:,3], alpha=0.5, label='minMAX')\n",
    "plt.scatter(X_stdscl[:,2], X_stdscl[:,3], alpha=0.5, label='standard')\n",
    "\n",
    "plt.legend()\n",
    "plt.show()\n"
   ]
  },
  {
   "cell_type": "markdown",
   "metadata": {},
   "source": [
    "Ahora vamos a implementar un pequeño cambio y vamos a introducir valores aberrantes a la muestra"
   ]
  },
  {
   "cell_type": "code",
   "execution_count": 28,
   "metadata": {},
   "outputs": [
    {
     "data": {
      "image/png": "[encoded data removed]",
      "text/plain": [
       "<Figure size 432x288 with 1 Axes>"
      ]
     },
     "metadata": {
      "needs_background": "light"
     },
     "output_type": "display_data"
    }
   ],
   "source": [
    "# introducimos 10 valores aberrantes entorno a la cota 100\n",
    "outliers = np.full((10,4), 100) + np.random.randn(10,4)\n",
    "\n",
    "# los unimos a los datos que ya teníamos de X\n",
    "X = np.vstack((X, outliers))\n",
    "\n",
    "plt.scatter(X[:,2], X[:,3], alpha=0.5, label='original')\n",
    "plt.show()"
   ]
  },
  {
   "cell_type": "markdown",
   "metadata": {},
   "source": [
    "Ahora los valores aparecen comprimidos en la esquina inferior izquierda de la pantalla por culpa de los valores aberrantes"
   ]
  },
  {
   "cell_type": "code",
   "execution_count": 29,
   "metadata": {},
   "outputs": [
    {
     "data": {
      "image/png": "[encoded data removed]",
      "text/plain": [
       "<Figure size 432x288 with 1 Axes>"
      ]
     },
     "metadata": {
      "needs_background": "light"
     },
     "output_type": "display_data"
    }
   ],
   "source": [
    "X_minMAX = MinMaxScaler().fit_transform(X)\n",
    "X_stdscl = StandardScaler().fit_transform(X)\n",
    "\n",
    "# representamos las normalizaciones\n",
    "plt.scatter(X_minMAX[:,2], X_minMAX[:,3], alpha=0.5, label='minMAX')\n",
    "plt.scatter(X_stdscl[:,2], X_stdscl[:,3], alpha=0.5, label='standard')\n",
    "\n",
    "plt.legend()\n",
    "plt.show()"
   ]
  },
  {
   "cell_type": "markdown",
   "metadata": {},
   "source": [
    "De igual manera, estos valores aberrantes afectan a los métodos de normalización que hemos visto, de hecho en el caso de minMax pareciera que tuviérmos 3 puntos. \n",
    "La conclusión es que estos métodos, aunque útiles, son poco eficaces si nuestros valores cuentan con datos que distorsionan mucho las tendencias. \n",
    "\n",
    "A pesar de todo conocemos un método para que estos valores aberrantes nos afecten lo menos posible. \n",
    "\n",
    "### Robust Scaler\n",
    "En este caso hacemos uso de un concepto de la estadística conocido pero poco utilizado: la mediana. La mediana representa el valor de la variable de posición central en un conjunto de datos ordenados. \n",
    "\n",
    "En este caso `RobustScaler()` lo que hace es normalizar los datos tomando la mediana y el intervalo entre el primer cuartil Q1(25%) y el tercer cuartil Q3(75%)"
   ]
  },
  {
   "cell_type": "code",
   "execution_count": 34,
   "metadata": {},
   "outputs": [
    {
     "name": "stdout",
     "output_type": "stream",
     "text": [
      "Using matplotlib backend: Qt5Agg\n"
     ]
    }
   ],
   "source": [
    "# importamos la clase\n",
    "from sklearn.preprocessing import RobustScaler\n",
    "%matplotlib\n",
    "\n",
    "# introducimos 10 valores aberrantes entorno a la cota 100\n",
    "outliers = np.full((10,4), 100) + np.random.randn(10,4)\n",
    "\n",
    "# los unimos a los datos que ya teníamos de X\n",
    "X = np.vstack((X, outliers))\n",
    "\n",
    "X_robust = RobustScaler().fit_transform(X)\n",
    "X_minMAX = MinMaxScaler().fit_transform(X)\n",
    "X_stdscl = StandardScaler().fit_transform(X)\n",
    "\n",
    "plt.scatter(X[:,2], X[:,3], alpha=0.5, label='original')\n",
    "plt.scatter(X_minMAX[:,2], X_minMAX[:,3], alpha=0.5, label='MinMaxScaler')\n",
    "plt.scatter(X_stdscl[:,2], X_stdscl[:,3], alpha=0.5, label='StandardScaler')\n",
    "plt.scatter(X_robust[:,2], X_robust[:,3], alpha=0.5, label='RobustScaler')\n",
    "\n",
    "plt.legend()\n",
    "plt.show()"
   ]
  },
  {
   "cell_type": "markdown",
   "metadata": {},
   "source": [
    "## Polinomial Features. Caracterización polinomial\n",
    "Es muy útil para crear variables polinomiales, también llamado Featuring Engineering ysado para crear modelos de ML muy ricos y sofisticados.\n",
    "en esencia este método convierte nuestra variable de entrada en el resultado de un polinomio de grado n y el método se encarga de buscar los factores que acompañan a la variable x^n y el término independiente. \n"
   ]
  },
  {
   "cell_type": "code",
   "execution_count": 2,
   "metadata": {},
   "outputs": [
    {
     "data": {
      "text/plain": [
       "array([[1.   , 1.   , 1.   , 1.   ],\n",
       "       [1.   , 2.   , 4.   , 8.   ],\n",
       "       [1.   , 0.5  , 0.25 , 0.125]])"
      ]
     },
     "execution_count": 2,
     "metadata": {},
     "output_type": "execute_result"
    }
   ],
   "source": [
    "#importamos la clase  \n",
    "from sklearn.preprocessing import PolynomialFeatures\n",
    "\n",
    "X = np.array([[1],\n",
    "             [2],\n",
    "             [0.5]])\n",
    "PolynomialFeatures(3).fit_transform(X)"
   ]
  },
  {
   "cell_type": "markdown",
   "metadata": {},
   "source": [
    "Esto nos viene muy bien para ajustar el modelo a una nube de putnso que sea muy compleja. Veámoslo con un ejemplo"
   ]
  },
  {
   "cell_type": "code",
   "execution_count": 5,
   "metadata": {},
   "outputs": [
    {
     "data": {
      "image/png": "[encoded data removed]",
      "text/plain": [
       "<Figure size 432x288 with 1 Axes>"
      ]
     },
     "metadata": {
      "needs_background": "light"
     },
     "output_type": "display_data"
    }
   ],
   "source": [
    "from sklearn.linear_model import LinearRegression\n",
    "\n",
    "X = np.linspace(0,4,100).reshape((100,1))\n",
    "y = X**2 + 5*np.cos(X)+ np.random.randn(100,1)\n",
    "\n",
    "plt.scatter(X,y)\n",
    "\n",
    "X_poly = PolynomialFeatures(3).fit_transform(X)\n",
    "\n",
    "model = LinearRegression().fit(X_poly, y)\n",
    "y_pred = model.predict(X_poly)\n",
    "\n",
    "plt.plot(X, y_pred, c='r', lw=3)\n",
    "plt.show()"
   ]
  },
  {
   "cell_type": "markdown",
   "metadata": {},
   "source": [
    "## Clase Pipeline\n",
    "\n",
    "Como ya sabemos cuando desarrollamos un modelo de ML tomamos unos datos de entrenamiento y unos datos de ensayo. \n",
    "\n",
    "Con los datos de entrenamiento creamos un Transformador mediante `fit_transform()` que trata los datos y nos ayuda a entrenar un Estimador `fit()`. Cuando tomamos los datos de ensayo usamos ese Transformador `transform()` para tratar los datos de ensayo y se lo pasamos a nuestro Estimador para hacer la predicción `predict()`\n",
    "\n",
    "Si traducimos esto en código"
   ]
  },
  {
   "cell_type": "code",
   "execution_count": 6,
   "metadata": {},
   "outputs": [],
   "source": [
    "from sklearn.model_selection import train_test_split\n",
    "from sklearn.linear_model import SGDClassifier"
   ]
  },
  {
   "cell_type": "code",
   "execution_count": 12,
   "metadata": {},
   "outputs": [],
   "source": [
    "X = iris.data\n",
    "y = iris.target\n",
    "\n",
    "X_train, X_test, y_train, y_test = train_test_split(X,y)"
   ]
  },
  {
   "cell_type": "code",
   "execution_count": 15,
   "metadata": {},
   "outputs": [
    {
     "data": {
      "text/plain": [
       "array([0, 1, 0, 2, 1, 1, 1, 1, 0, 2, 2, 0, 2, 0, 0, 1, 0, 1, 0, 1, 0, 0,\n",
       "       2, 1, 0, 0, 1, 2, 0, 0, 1, 2, 2, 1, 0, 2, 1, 2])"
      ]
     },
     "execution_count": 15,
     "metadata": {},
     "output_type": "execute_result"
    }
   ],
   "source": [
    "# Transformador\n",
    "scaler = StandardScaler()\n",
    "X_train_transformed = scaler.fit_transform(X_train)\n",
    "\n",
    "# Estimador\n",
    "model = SGDClassifier(random_state=0)\n",
    "model.fit(X_train_transformed, y_train)\n",
    "\n",
    "# Datos de test\n",
    "X_test_transformed = scaler.transform(X_test)\n",
    "model.predict(X_test_transformed)"
   ]
  },
  {
   "cell_type": "markdown",
   "metadata": {},
   "source": [
    "Existe una forma mucho más simple y elegante de escribir todo este código. El truco está en crear una herramienta que realiza a la vez la transformació y la estimación de una sola vez: un Pipeline. \n",
    "\n",
    "Este Pipeline no es más que una cadena de transformación, es un estimador compuesto. \n",
    "Esto se traduce en que todo el código que hemos visto se reduce a una sola línea. Veámoslo"
   ]
  },
  {
   "cell_type": "code",
   "execution_count": 18,
   "metadata": {},
   "outputs": [
    {
     "data": {
      "text/plain": [
       "array([0, 1, 0, 2, 1, 1, 1, 1, 0, 2, 2, 0, 1, 0, 0, 1, 0, 1, 0, 1, 0, 0,\n",
       "       1, 1, 0, 0, 1, 2, 0, 0, 1, 2, 2, 1, 0, 2, 1, 2])"
      ]
     },
     "execution_count": 18,
     "metadata": {},
     "output_type": "execute_result"
    }
   ],
   "source": [
    "# importamos la clase\n",
    "from sklearn.pipeline import make_pipeline\n",
    "\n",
    "# creamos el modelo\n",
    "model = make_pipeline(StandardScaler(), SGDClassifier())\n",
    "\n",
    "model.fit(X_train, y_train)\n",
    "model.predict(X_test)"
   ]
  },
  {
   "cell_type": "markdown",
   "metadata": {},
   "source": [
    "Obtenemos exáctamente el mismo código y conseguimos minimizar errores.\n",
    "\n",
    "### Pipeline GridSearchCV\n",
    "\n",
    "Mediante  `GridSearchCV` podemos encontrar los mejores parámetros de la pipeline. Todo lo que hay que hacer es definir el pipeline y crear un diccionario de parámetros para mejorar el rendimiento"
   ]
  },
  {
   "cell_type": "code",
   "execution_count": 24,
   "metadata": {},
   "outputs": [
    {
     "data": {
      "text/plain": [
       "GridSearchCV(cv=4,\n",
       "             estimator=Pipeline(steps=[('polynomialfeatures',\n",
       "                                        PolynomialFeatures()),\n",
       "                                       ('standardscaler', StandardScaler()),\n",
       "                                       ('sgdclassifier',\n",
       "                                        SGDClassifier(random_state=0))]),\n",
       "             param_grid={'polynomialfeatures__degree': [2, 3, 4],\n",
       "                         'sgdclassifier__penalty': ['l1', 'l2']})"
      ]
     },
     "execution_count": 24,
     "metadata": {},
     "output_type": "execute_result"
    }
   ],
   "source": [
    "# importamos la clase\n",
    "from sklearn.model_selection import GridSearchCV\n",
    "\n",
    "model = make_pipeline(PolynomialFeatures(),\n",
    "                      StandardScaler(),\n",
    "                      SGDClassifier(random_state=0))\n",
    "\n",
    "\n",
    "# creamos un diccionario de parámetros en función del modelo\n",
    "params = {\n",
    "    'polynomialfeatures__degree' : [2, 3, 4],\n",
    "    'sgdclassifier__penalty': ['l1', 'l2']\n",
    "}\n",
    "\n",
    "grid = GridSearchCV(model, param_grid=params, cv=4)\n",
    "\n",
    "grid.fit(X_train,y_train)"
   ]
  },
  {
   "cell_type": "code",
   "execution_count": 26,
   "metadata": {},
   "outputs": [
    {
     "data": {
      "text/plain": [
       "{'polynomialfeatures__degree': 3, 'sgdclassifier__penalty': 'l1'}"
      ]
     },
     "execution_count": 26,
     "metadata": {},
     "output_type": "execute_result"
    }
   ],
   "source": [
    "# \n",
    "grid.best_params_"
   ]
  },
  {
   "cell_type": "code",
   "execution_count": 27,
   "metadata": {},
   "outputs": [
    {
     "data": {
      "text/plain": [
       "1.0"
      ]
     },
     "execution_count": 27,
     "metadata": {},
     "output_type": "execute_result"
    }
   ],
   "source": [
    "grid.score(X_test,y_test)"
   ]
  },
  {
   "cell_type": "code",
   "execution_count": null,
   "metadata": {},
   "outputs": [],
   "source": []
  }
 ],
 "metadata": {
  "kernelspec": {
   "display_name": "Python 3",
   "language": "python",
   "name": "python3"
  },
  "language_info": {
   "codemirror_mode": {
    "name": "ipython",
    "version": 3
   },
   "file_extension": ".py",
   "mimetype": "text/x-python",
   "name": "python",
   "nbconvert_exporter": "python",
   "pygments_lexer": "ipython3",
   "version": "3.8.5"
  },
  "toc": {
   "base_numbering": 1,
   "nav_menu": {},
   "number_sections": false,
   "sideBar": true,
   "skip_h1_title": false,
   "title_cell": "Table of Contents",
   "title_sidebar": "Contents",
   "toc_cell": false,
   "toc_position": {
    "height": "calc(100% - 180px)",
    "left": "10px",
    "top": "150px",
    "width": "320.156px"
   },
   "toc_section_display": true,
   "toc_window_display": true
  }
 },
 "nbformat": 4,
 "nbformat_minor": 4
}
